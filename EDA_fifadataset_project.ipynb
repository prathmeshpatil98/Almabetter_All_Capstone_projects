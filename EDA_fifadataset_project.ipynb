{
 "cells": [
  {
   "cell_type": "markdown",
   "metadata": {},
   "source": [
    "EDA_ project (Fifa_dataset_Analysis)"
   ]
  },
  {
   "cell_type": "code",
   "execution_count": 68,
   "metadata": {},
   "outputs": [],
   "source": [
    "import numpy as np\n",
    "import pandas as pd \n",
    "import matplotlib.pyplot as plt\n",
    "import seaborn as sns \n",
    "from bs4 import BeautifulSoup as bfs\n",
    "import requests \n",
    "import re\n"
   ]
  },
  {
   "cell_type": "code",
   "execution_count": 69,
   "metadata": {},
   "outputs": [],
   "source": [
    "url = 'https://sofifa.com/players?offset=1'\n",
    "req = requests.get(url)"
   ]
  },
  {
   "cell_type": "code",
   "execution_count": 70,
   "metadata": {},
   "outputs": [
    {
     "data": {
      "text/plain": [
       "<Response [403]>"
      ]
     },
     "execution_count": 70,
     "metadata": {},
     "output_type": "execute_result"
    }
   ],
   "source": [
    "req"
   ]
  },
  {
   "cell_type": "code",
   "execution_count": 71,
   "metadata": {},
   "outputs": [],
   "source": [
    "soup = bfs(req.content )"
   ]
  },
  {
   "cell_type": "code",
   "execution_count": 72,
   "metadata": {},
   "outputs": [
    {
     "data": {
      "text/plain": [
       "'<!DOCTYPE html>\\n<!--[if lt IE 7]> <html class=\"no-js ie6 oldie\" lang=\"en-US\"> <![endif]-->\\n<!--[if IE 7]>    <html class=\"no-js ie7 oldie\" lang=\"en-US\"> <![endif]-->\\n<!--[if IE 8]>    <html class=\"no-js ie8 oldie\" lang=\"en-US\"> <![endif]-->\\n<!--[if gt IE 8]><!-->\\n<html class=\"no-js\" lang=\"en-US\">\\n <!--<![endif]-->\\n <head>\\n  <title>\\n   Attention Required! | Cloudflare\\n  </title>\\n  <meta charset=\"utf-8\"/>\\n  <meta content=\"text/html; charset=utf-8\" http-equiv=\"Content-Type\"/>\\n  <meta content=\"IE=Edge\" http-equiv=\"X-UA-Compatible\"/>\\n  <meta content=\"noindex, nofollow\" name=\"robots\"/>\\n  <meta content=\"width=device-width,initial-scale=1\" name=\"viewport\"/>\\n  <link href=\"/cdn-cgi/styles/cf.errors.css\" id=\"cf_styles-css\" rel=\"stylesheet\"/>\\n  <!--[if lt IE 9]><link rel=\"stylesheet\" id=\\'cf_styles-ie-css\\' href=\"/cdn-cgi/styles/cf.errors.ie.css\" /><![endif]-->\\n  <style>\\n   body{margin:0;padding:0}\\n  </style>\\n  <!--[if gte IE 10]><!-->\\n  <script>\\n   if (!navigator.cookieEnabled) {\\n    window.addEventListener(\\'DOMContentLoaded\\', function () {\\n      var cookieEl = document.getElementById(\\'cookie-alert\\');\\n      cookieEl.style.display = \\'block\\';\\n    })\\n  }\\n  </script>\\n  <!--<![endif]-->\\n </head>\\n <body>\\n  <div id=\"cf-wrapper\">\\n   <div class=\"cf-alert cf-alert-error cf-cookie-error\" data-translate=\"enable_cookies\" id=\"cookie-alert\">\\n    Please enable cookies.\\n   </div>\\n   <div class=\"cf-error-details-wrapper\" id=\"cf-error-details\">\\n    <div class=\"cf-wrapper cf-header cf-error-overview\">\\n     <h1 data-translate=\"block_headline\">\\n      Sorry, you have been blocked\\n     </h1>\\n     <h2 class=\"cf-subheadline\">\\n      <span data-translate=\"unable_to_access\">\\n       You are unable to access\\n      </span>\\n      sofifa.com\\n     </h2>\\n    </div>\\n    <!-- /.header -->\\n    <div class=\"cf-section cf-highlight\">\\n     <div class=\"cf-wrapper\">\\n      <div class=\"cf-screenshot-container cf-screenshot-full\">\\n       <span class=\"cf-no-screenshot error\">\\n       </span>\\n      </div>\\n     </div>\\n    </div>\\n    <!-- /.captcha-container -->\\n    <div class=\"cf-section cf-wrapper\">\\n     <div class=\"cf-columns two\">\\n      <div class=\"cf-column\">\\n       <h2 data-translate=\"blocked_why_headline\">\\n        Why have I been blocked?\\n       </h2>\\n       <p data-translate=\"blocked_why_detail\">\\n        This website is using a security service to protect itself from online attacks. The action you just performed triggered the security solution. There are several actions that could trigger this block including submitting a certain word or phrase, a SQL command or malformed data.\\n       </p>\\n      </div>\\n      <div class=\"cf-column\">\\n       <h2 data-translate=\"blocked_resolve_headline\">\\n        What can I do to resolve this?\\n       </h2>\\n       <p data-translate=\"blocked_resolve_detail\">\\n        You can email the site owner to let them know you were blocked. Please include what you were doing when this page came up and the Cloudflare Ray ID found at the bottom of this page.\\n       </p>\\n      </div>\\n     </div>\\n    </div>\\n    <!-- /.section -->\\n    <div class=\"cf-error-footer cf-wrapper w-240 lg:w-full py-10 sm:py-4 sm:px-8 mx-auto text-center sm:text-left border-solid border-0 border-t border-gray-300\">\\n     <p class=\"text-13\">\\n      <span class=\"cf-footer-item sm:block sm:mb-1\">\\n       Cloudflare Ray ID:\\n       <strong class=\"font-semibold\">\\n        7f4979728910470d\\n       </strong>\\n      </span>\\n      <span class=\"cf-footer-separator sm:hidden\">\\n       •\\n      </span>\\n      <span class=\"cf-footer-item hidden sm:block sm:mb-1\" id=\"cf-footer-item-ip\">\\n       Your IP:\\n       <button class=\"cf-footer-ip-reveal-btn\" id=\"cf-footer-ip-reveal\" type=\"button\">\\n        Click to reveal\\n       </button>\\n       <span class=\"hidden\" id=\"cf-footer-ip\">\\n        103.174.159.63\\n       </span>\\n       <span class=\"cf-footer-separator sm:hidden\">\\n        •\\n       </span>\\n      </span>\\n      <span class=\"cf-footer-item sm:block sm:mb-1\">\\n       <span>\\n        Performance &amp; security by\\n       </span>\\n       <a href=\"https://www.cloudflare.com/5xx-error-landing\" id=\"brand_link\" rel=\"noopener noreferrer\" target=\"_blank\">\\n        Cloudflare\\n       </a>\\n      </span>\\n     </p>\\n     <script>\\n      (function(){function d(){var b=a.getElementById(\"cf-footer-item-ip\"),c=a.getElementById(\"cf-footer-ip-reveal\");b&&\"classList\"in b&&(b.classList.remove(\"hidden\"),c.addEventListener(\"click\",function(){c.classList.add(\"hidden\");a.getElementById(\"cf-footer-ip\").classList.remove(\"hidden\")}))}var a=document;document.addEventListener&&a.addEventListener(\"DOMContentLoaded\",d)})();\\n     </script>\\n    </div>\\n    <!-- /.error-footer -->\\n   </div>\\n   <!-- /#cf-error-details -->\\n  </div>\\n  <!-- /#cf-wrapper -->\\n  <script>\\n   window._cf_translation = {};\\n  </script>\\n </body>\\n</html>\\n'"
      ]
     },
     "execution_count": 72,
     "metadata": {},
     "output_type": "execute_result"
    }
   ],
   "source": [
    "soup.prettify()"
   ]
  },
  {
   "cell_type": "markdown",
   "metadata": {},
   "source": [
    "data cleaning , data manipulation and Data exploration"
   ]
  },
  {
   "cell_type": "code",
   "execution_count": 73,
   "metadata": {},
   "outputs": [],
   "source": [
    "columns = ['image_link','Name','Age','ova','Pot', 'Team',\n",
    "           'Duration','value','Wage','Total_stats','Hits']"
   ]
  },
  {
   "cell_type": "code",
   "execution_count": 78,
   "metadata": {},
   "outputs": [
    {
     "ename": "TypeError",
     "evalue": "slice indices must be integers or None or have an __index__ method",
     "output_type": "error",
     "traceback": [
      "\u001b[1;31m---------------------------------------------------------------------------\u001b[0m",
      "\u001b[1;31mTypeError\u001b[0m                                 Traceback (most recent call last)",
      "Cell \u001b[1;32mIn[78], line 19\u001b[0m\n\u001b[0;32m     16\u001b[0m     columns \u001b[39m=\u001b[39m row\u001b[39m.\u001b[39mfind_all(\u001b[39m'\u001b[39m\u001b[39mtd\u001b[39m\u001b[39m'\u001b[39m)\n\u001b[0;32m     18\u001b[0m \u001b[39mif\u001b[39;00m \u001b[39mlen\u001b[39m(columns) \u001b[39m>\u001b[39m \u001b[39m0\u001b[39m:\n\u001b[1;32m---> 19\u001b[0m         image_link \u001b[39m=\u001b[39m re\u001b[39m.\u001b[39msub(\u001b[39m'\u001b[39m\u001b[39m<img.*data-srcset=\u001b[39m\u001b[39m\"\u001b[39m\u001b[39m| .*/>\u001b[39m\u001b[39m'\u001b[39m, \u001b[39m'\u001b[39m\u001b[39m'\u001b[39m, \u001b[39mstr\u001b[39m(columns[\u001b[39m0\u001b[39;49m]\u001b[39m.\u001b[39;49mfind(\u001b[39m'\u001b[39;49m\u001b[39mimg\u001b[39;49m\u001b[39m'\u001b[39;49m, {\u001b[39m\"\u001b[39;49m\u001b[39mclass\u001b[39;49m\u001b[39m\"\u001b[39;49m: \u001b[39m\"\u001b[39;49m\u001b[39mplayer-check loaded\u001b[39;49m\u001b[39m\"\u001b[39;49m})))\n\u001b[0;32m     20\u001b[0m         name \u001b[39m=\u001b[39m re\u001b[39m.\u001b[39msub(\u001b[39m'\u001b[39m\u001b[39m<a.*data-tooltip=\u001b[39m\u001b[39m\"\u001b[39m\u001b[39m|\u001b[39m\u001b[39m\"\u001b[39m\u001b[39m href.*a>\u001b[39m\u001b[39m'\u001b[39m, \u001b[39m'\u001b[39m\u001b[39m \u001b[39m\u001b[39m'\u001b[39m, \u001b[39mstr\u001b[39m(columns[\u001b[39m1\u001b[39m]\u001b[39m.\u001b[39mfind(\u001b[39m'\u001b[39m\u001b[39ma\u001b[39m\u001b[39m'\u001b[39m, {\u001b[39m\"\u001b[39m\u001b[39mclass\u001b[39m\u001b[39m\"\u001b[39m: \u001b[39m\"\u001b[39m\u001b[39mtooltip\u001b[39m\u001b[39m\"\u001b[39m})))\n\u001b[0;32m     21\u001b[0m         age \u001b[39m=\u001b[39m re\u001b[39m.\u001b[39msub(\u001b[39m'\u001b[39m\u001b[39m<td.*>|</td>\u001b[39m\u001b[39m'\u001b[39m, \u001b[39m'\u001b[39m\u001b[39m'\u001b[39m, \u001b[39mstr\u001b[39m(columns[\u001b[39m2\u001b[39m]))\n",
      "\u001b[1;31mTypeError\u001b[0m: slice indices must be integers or None or have an __index__ method"
     ]
    }
   ],
   "source": [
    "import requests\n",
    "import re\n",
    "import pandas as pd\n",
    "from bs4 import BeautifulSoup\n",
    "\n",
    "# Initialize an empty DataFrame\n",
    "fifa = pd.DataFrame()\n",
    "\n",
    "for i in range(1, 11):\n",
    "    url = f'https://sofifa.com/players?offset={i}'\n",
    "    req = requests.get(url)\n",
    "    soup = BeautifulSoup(req.content, 'html.parser')\n",
    "    lists = [[] for _ in range(11)]\n",
    "\n",
    "    for row in soup.find_all('tr'):\n",
    "        columns = row.find_all('td')\n",
    "\n",
    "    if len(columns) > 0:\n",
    "            image_link = re.sub('<img.*data-srcset=\"| .*/>', '', str(columns[0].find('img', {\"class\": \"player-check loaded\"})))\n",
    "            name = re.sub('<a.*data-tooltip=\"|\" href.*a>', ' ', str(columns[1].find('a', {\"class\": \"tooltip\"})))\n",
    "            age = re.sub('<td.*>|</td>', '', str(columns[2]))\n",
    "            ova = re.sub('<td.*\">|</td>|<.*>', ' ', str(columns[3]))\n",
    "            pot = re.sub('<td.*\">|</td>|<.*>', '', str(columns[4]))\n",
    "            team = re.sub('<a.*title=\"|\">.*/>|<a.*/\">|</a> | amp; ', '', str(columns[-1].findAll('a')[-1]))\n",
    "            duration = re.sub('<div.*\\n]</div>| <.*', '', str(columns[5].find('div', {\"class\": \"sub\"})))\n",
    "            value = re.sub('<td,*\">C]X</td>|</td>', '', str(columns[6]))\n",
    "            wage = re.sub('<td.**>C]K</td>|</td>', '', str(columns[7]))\n",
    "            total_stats = re.sub('<td.*\">|</.*td>', '', str(columns[8]))\n",
    "            hits = re.sub('<td,*\">\\n\\X</td>', '', str(columns[9]))\n",
    "\n",
    "            lists[0].append(image_link)\n",
    "            lists[1].append(name)\n",
    "            lists[2].append(age)\n",
    "            lists[3].append(ova)\n",
    "            lists[4].append(pot)\n",
    "            lists[5].append(team)\n",
    "            lists[6].append(duration)\n",
    "            lists[7].append(value)\n",
    "            lists[8].append(wage)\n",
    "            lists[9].append(total_stats)\n",
    "            lists[10].append(hits)\n",
    "\n",
    "    temp_df = pd.DataFrame({\n",
    "        'Image_link': lists[0],\n",
    "        'Name': lists[1],\n",
    "        'Age': lists[2],\n",
    "        'OVA': lists[3],\n",
    "        'POT': lists[4],\n",
    "        'Team': lists[5],\n",
    "        'Duration': lists[6],\n",
    "        'Value': lists[7],\n",
    "        'Wage': lists[8],\n",
    "        'Total_stats': lists[9],\n",
    "        'Hits': lists[10]\n",
    "    })\n",
    "\n",
    "    # Append the data from this iteration to the main DataFrame\n",
    "    fifa = fifa.concat(temp_df, ignore_index=True)\n",
    "\n",
    "# Convert selected columns to numeric\n",
    "fifa['Age'] = pd.to_numeric(fifa['Age'], errors='coerce')\n",
    "fifa['OVA'] = pd.to_numeric(fifa['OVA'], errors='coerce')\n",
    "fifa['POT'] = pd.to_numeric(fifa['POT'], errors='coerce')\n",
    "fifa['Value'] = pd.to_numeric(fifa['Value'], errors='coerce')\n",
    "fifa['Wage'] = pd.to_numeric(fifa['Wage'], errors='coerce')\n",
    "fifa['Total_stats'] = pd.to_numeric(fifa['Total_stats'], errors='coerce')\n",
    "fifa['Hits'] = pd.to_numeric(fifa['Hits'], errors='coerce')\n",
    "\n",
    "# Drop rows with missing values\n",
    "fifa.dropna(inplace=True)\n",
    "\n",
    "# Print the DataFrame\n",
    "print(fifa)\n"
   ]
  },
  {
   "cell_type": "code",
   "execution_count": null,
   "metadata": {},
   "outputs": [],
   "source": []
  }
 ],
 "metadata": {
  "kernelspec": {
   "display_name": "Python 3",
   "language": "python",
   "name": "python3"
  },
  "language_info": {
   "codemirror_mode": {
    "name": "ipython",
    "version": 3
   },
   "file_extension": ".py",
   "mimetype": "text/x-python",
   "name": "python",
   "nbconvert_exporter": "python",
   "pygments_lexer": "ipython3",
   "version": "3.11.1"
  },
  "orig_nbformat": 4
 },
 "nbformat": 4,
 "nbformat_minor": 2
}
